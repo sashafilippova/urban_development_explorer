{
 "cells": [
  {
   "cell_type": "code",
   "execution_count": 187,
   "metadata": {},
   "outputs": [
    {
     "name": "stderr",
     "output_type": "stream",
     "text": [
      "/home/anth0nyhak1m/.local/lib/python3.8/site-packages/geopandas/_compat.py:111: UserWarning: The Shapely GEOS version (3.10.2-CAPI-1.16.0) is incompatible with the GEOS version PyGEOS was compiled with (3.10.1-CAPI-1.16.0). Conversions between both will be slow.\n",
      "  warnings.warn(\n"
     ]
    }
   ],
   "source": [
    "from http.client import REQUESTED_RANGE_NOT_SATISFIABLE\n",
    "import pandas as pd\n",
    "from sodapy import Socrata\n",
    "import matplotlib.pyplot as plt\n",
    "import geo_comm_areas as gca\n",
    "pd.set_option('display.max_rows', None)\n"
   ]
  },
  {
   "cell_type": "code",
   "execution_count": 2,
   "metadata": {},
   "outputs": [],
   "source": [
    "id_dict = {\n",
    "    \"red light violations\": \"spqx-js37\", \"abandoned buildings\": \"kc9i-wq85\",\n",
    "    \"socioeconomic indicators\": \"kn9c-c2s2\", \"hardship index\": \"792q-4jtu\",\n",
    "    \"crimes\": \"ijzp-q8t2\", \"grocery stores\": \"4u6w-irs9\" }\n",
    "\n"
   ]
  },
  {
   "cell_type": "code",
   "execution_count": 3,
   "metadata": {},
   "outputs": [],
   "source": [
    "def pull_data(dataset_id, lim):\n",
    "    '''\n",
    "    Given a dataset id, pull out data from Chicago portal API\n",
    "\n",
    "    Inputs:\n",
    "      dataset_id: (str) a unique id for one Chicago portal dataset\n",
    "      limit: (int) number of rows to pull each time, default to None\n",
    "\n",
    "    Return:\n",
    "      (Pandas DataFrame) a dataframe pulled from Chicago Portal\n",
    "    '''\n",
    "    client = Socrata(\"data.cityofchicago.org\", \"goD601SLndI51xcMq1KsnG6np\")\n",
    "\n",
    "    results = client.get(dataset_id, limit = lim)\n",
    "    return pd.DataFrame.from_records(results)"
   ]
  },
  {
   "cell_type": "code",
   "execution_count": 4,
   "metadata": {},
   "outputs": [],
   "source": [
    "def gen_tables(id_dictionary, lim):\n",
    "    dataset_dct = {}\n",
    "    for dataset_name, url in id_dictionary.items():\n",
    "        dataset_dct[dataset_name] = pull_data(url, lim)\n",
    "\n",
    "    return dataset_dct"
   ]
  },
  {
   "cell_type": "code",
   "execution_count": null,
   "metadata": {},
   "outputs": [],
   "source": [
    "dct = gen_tables(id_dict, 1000)\n",
    "\n"
   ]
  },
  {
   "cell_type": "code",
   "execution_count": null,
   "metadata": {},
   "outputs": [],
   "source": [
    "for key in dct.keys():\n",
    "    print(key)"
   ]
  },
  {
   "cell_type": "code",
   "execution_count": 117,
   "metadata": {},
   "outputs": [],
   "source": [
    "\n",
    "\n",
    "client = Socrata(\"data.cityofchicago.org\", \"goD601SLndI51xcMq1KsnG6np\")\n",
    "results = client.get(\"ijzp-q8t2\", where = f\"(primary_type) = 'HOMICIDE'\",\n",
    "                    limit=1000000)\n",
    "\n",
    "crime_df = pd.DataFrame.from_records(results)\n"
   ]
  },
  {
   "cell_type": "code",
   "execution_count": null,
   "metadata": {},
   "outputs": [],
   "source": [
    "\n",
    "crime_df.columns.unique()"
   ]
  },
  {
   "cell_type": "code",
   "execution_count": 138,
   "metadata": {},
   "outputs": [],
   "source": [
    "crime_year_count = crime_df.groupby(by=['community_area', \"year\"]).size().unstack()\n",
    "\n",
    "\n"
   ]
  },
  {
   "cell_type": "code",
   "execution_count": 206,
   "metadata": {},
   "outputs": [
    {
     "name": "stderr",
     "output_type": "stream",
     "text": [
      "/tmp/ipykernel_6126/942191158.py:3: FutureWarning: Dropping of nuisance columns in DataFrame reductions (with 'numeric_only=None') is deprecated; in a future version this will raise TypeError.  Select only valid columns before calling the reduction.\n",
      "  crime_year_count['Average Homicide'] = crime_year_count.mean(axis=1)\n"
     ]
    }
   ],
   "source": [
    "crime_year_count = crime_year_count.fillna(0)\n",
    "\n",
    "crime_year_count['Average Homicide'] = crime_year_count.mean(axis=1)\n",
    "\n",
    "crime_year_count['community_area'] = crime_year_count.index\n",
    "\n",
    "crime_df = crime_year_count.melt('community_area')\n",
    "\n"
   ]
  },
  {
   "cell_type": "code",
   "execution_count": 207,
   "metadata": {},
   "outputs": [],
   "source": [
    "grocery_stores = dct['grocery stores']\n",
    "\n",
    "store_name = dct['grocery stores']['store_name']\n",
    "\n",
    "grocery_stores['store_name'].str.contains('LIQUOR').value_counts()[True]\n",
    "\n",
    "groc_count = dct['grocery stores'].groupby(by=['community_area']).size().to_frame(name='grocery stores count')\n",
    "\n",
    "liquor_stores = grocery_stores[grocery_stores['store_name'].str.contains('LIQUOR')]\n",
    "\n",
    "liquor_count = liquor_stores.groupby(by=['community_area']).size().to_frame(name='liquor stores count')\n",
    "\n",
    "groceries_df = groc_count.merge(liquor_count, left_on = \"community_area\", right_on = \"community_area\")\n",
    "\n",
    "groceries_df['Drunk Ratio'] = groceries_df['liquor stores count']/groceries_df['grocery stores count'] * 100\n",
    "\n",
    "groceries_df['year'] = '2011'\n",
    "\n"
   ]
  },
  {
   "cell_type": "code",
   "execution_count": null,
   "metadata": {},
   "outputs": [],
   "source": [
    "dct['hardship index'].columns.unique()\n",
    "socio = dct['socioeconomic indicators']\n"
   ]
  },
  {
   "cell_type": "markdown",
   "metadata": {},
   "source": [
    "Grocery stores: Status Done\n",
    "Join on \"community_area\"\n",
    "1. Goals\n",
    "    a. columns: comm area, if possible comm area name, total groceries stores, num of liquor store, liquor/total gorcery stores ratio, year (??) - Sasha\n",
    "\n",
    "Crime: Status Done\n",
    "Join on \"community_area\"\n",
    "1. Goals\n",
    "    a. columns: comm area, if possible comm area name, homicide count, avg homicide rate (total homicide/no. of years) - Anthony\n",
    "\n",
    "socioeconomic indicators\n",
    "1. Goals\n",
    "    a. columns: comm_area (make it a number), comma_area name, hardship index, year - Anthony"
   ]
  }
 ],
 "metadata": {
  "interpreter": {
   "hash": "916dbcbb3f70747c44a77c7bcd40155683ae19c65e1c03b4aa3499c5328201f1"
  },
  "kernelspec": {
   "display_name": "Python 3.8.5 64-bit",
   "language": "python",
   "name": "python3"
  },
  "language_info": {
   "codemirror_mode": {
    "name": "ipython",
    "version": 3
   },
   "file_extension": ".py",
   "mimetype": "text/x-python",
   "name": "python",
   "nbconvert_exporter": "python",
   "pygments_lexer": "ipython3",
   "version": "3.8.10"
  },
  "orig_nbformat": 4
 },
 "nbformat": 4,
 "nbformat_minor": 2
}
