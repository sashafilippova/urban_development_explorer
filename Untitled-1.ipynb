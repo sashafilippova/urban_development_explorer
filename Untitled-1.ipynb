{
 "cells": [
  {
   "cell_type": "code",
   "execution_count": 1,
   "metadata": {},
   "outputs": [
    {
     "name": "stderr",
     "output_type": "stream",
     "text": [
      "/Users/oleksandrafilippova/miniconda3/lib/python3.9/site-packages/geopandas/_compat.py:111: UserWarning: The Shapely GEOS version (3.10.2-CAPI-1.16.0) is incompatible with the GEOS version PyGEOS was compiled with (3.10.1-CAPI-1.16.0). Conversions between both will be slow.\n",
      "  warnings.warn(\n",
      "/var/folders/dk/pln7xlc14nzbppm5dwwxnl1h0000gn/T/ipykernel_17503/2217799766.py:3: FutureWarning: The `op` parameter is deprecated and will be removed in a future release. Please use the `predicate` parameter instead.\n",
      "  import build_dataframes\n"
     ]
    }
   ],
   "source": [
    "import util\n",
    "import pandas as pd\n",
    "import build_dataframes\n",
    "import geo_comm_areas as gca"
   ]
  },
  {
   "cell_type": "code",
   "execution_count": 2,
   "metadata": {},
   "outputs": [],
   "source": [
    "crime, grocery, socio = api_collection.generate_crime_grocery_socio_dfs()"
   ]
  },
  {
   "cell_type": "code",
   "execution_count": 4,
   "metadata": {},
   "outputs": [],
   "source": [
    "comm_areas, build_year_val, build_year_count, demo_year_count = build_dataframes.return_marcs_dfs()"
   ]
  },
  {
   "cell_type": "markdown",
   "metadata": {},
   "source": [
    "vac_rate, build_per_demo (this is our index), hispper, whiteper, blackper"
   ]
  },
  {
   "cell_type": "code",
   "execution_count": 2,
   "metadata": {},
   "outputs": [],
   "source": [
    "build_year_count, demo_year_count = build_dataframes.test_modified_marcs_data()"
   ]
  },
  {
   "cell_type": "code",
   "execution_count": 4,
   "metadata": {},
   "outputs": [
    {
     "data": {
      "text/html": [
       "<div>\n",
       "<style scoped>\n",
       "    .dataframe tbody tr th:only-of-type {\n",
       "        vertical-align: middle;\n",
       "    }\n",
       "\n",
       "    .dataframe tbody tr th {\n",
       "        vertical-align: top;\n",
       "    }\n",
       "\n",
       "    .dataframe thead th {\n",
       "        text-align: right;\n",
       "    }\n",
       "</style>\n",
       "<table border=\"1\" class=\"dataframe\">\n",
       "  <thead>\n",
       "    <tr style=\"text-align: right;\">\n",
       "      <th></th>\n",
       "      <th></th>\n",
       "      <th>community</th>\n",
       "      <th>geometry</th>\n",
       "      <th>tot_pop</th>\n",
       "      <th>Number demolished per 10,000 people</th>\n",
       "    </tr>\n",
       "    <tr>\n",
       "      <th>area_num</th>\n",
       "      <th>year</th>\n",
       "      <th></th>\n",
       "      <th></th>\n",
       "      <th></th>\n",
       "      <th></th>\n",
       "    </tr>\n",
       "  </thead>\n",
       "  <tbody>\n",
       "    <tr>\n",
       "      <th>1</th>\n",
       "      <th>index</th>\n",
       "      <td>ROGERS PARK</td>\n",
       "      <td>MULTIPOLYGON (((-87.65456 41.99817, -87.65574 ...</td>\n",
       "      <td>55628</td>\n",
       "      <td>0.000000</td>\n",
       "    </tr>\n",
       "    <tr>\n",
       "      <th>2</th>\n",
       "      <th>index</th>\n",
       "      <td>WEST RIDGE</td>\n",
       "      <td>MULTIPOLYGON (((-87.68465 42.01948, -87.68464 ...</td>\n",
       "      <td>77122</td>\n",
       "      <td>1.000000</td>\n",
       "    </tr>\n",
       "    <tr>\n",
       "      <th>3</th>\n",
       "      <th>index</th>\n",
       "      <td>UPTOWN</td>\n",
       "      <td>MULTIPOLYGON (((-87.64102 41.95480, -87.64400 ...</td>\n",
       "      <td>57182</td>\n",
       "      <td>2.000000</td>\n",
       "    </tr>\n",
       "    <tr>\n",
       "      <th>4</th>\n",
       "      <th>index</th>\n",
       "      <td>LINCOLN SQUARE</td>\n",
       "      <td>MULTIPOLYGON (((-87.67441 41.97610, -87.67440 ...</td>\n",
       "      <td>40494</td>\n",
       "      <td>3.000000</td>\n",
       "    </tr>\n",
       "    <tr>\n",
       "      <th>5</th>\n",
       "      <th>index</th>\n",
       "      <td>NORTH CENTER</td>\n",
       "      <td>MULTIPOLYGON (((-87.67336 41.93234, -87.67342 ...</td>\n",
       "      <td>35114</td>\n",
       "      <td>4.000000</td>\n",
       "    </tr>\n",
       "    <tr>\n",
       "      <th>...</th>\n",
       "      <th>...</th>\n",
       "      <td>...</td>\n",
       "      <td>...</td>\n",
       "      <td>...</td>\n",
       "      <td>...</td>\n",
       "    </tr>\n",
       "    <tr>\n",
       "      <th>73</th>\n",
       "      <th>2021</th>\n",
       "      <td>WASHINGTON HEIGHTS</td>\n",
       "      <td>MULTIPOLYGON (((-87.63373 41.72885, -87.63369 ...</td>\n",
       "      <td>25065</td>\n",
       "      <td>2.393776</td>\n",
       "    </tr>\n",
       "    <tr>\n",
       "      <th>74</th>\n",
       "      <th>2021</th>\n",
       "      <td>MOUNT GREENWOOD</td>\n",
       "      <td>MULTIPOLYGON (((-87.69646 41.70714, -87.69644 ...</td>\n",
       "      <td>18628</td>\n",
       "      <td>3.220958</td>\n",
       "    </tr>\n",
       "    <tr>\n",
       "      <th>75</th>\n",
       "      <th>2021</th>\n",
       "      <td>MORGAN PARK</td>\n",
       "      <td>MULTIPOLYGON (((-87.64215 41.68508, -87.64249 ...</td>\n",
       "      <td>21186</td>\n",
       "      <td>3.304069</td>\n",
       "    </tr>\n",
       "    <tr>\n",
       "      <th>76</th>\n",
       "      <th>2021</th>\n",
       "      <td>OHARE</td>\n",
       "      <td>MULTIPOLYGON (((-87.83658 41.98640, -87.83658 ...</td>\n",
       "      <td>13418</td>\n",
       "      <td>2.235803</td>\n",
       "    </tr>\n",
       "    <tr>\n",
       "      <th>77</th>\n",
       "      <th>2021</th>\n",
       "      <td>EDGEWATER</td>\n",
       "      <td>MULTIPOLYGON (((-87.65456 41.99817, -87.65456 ...</td>\n",
       "      <td>56296</td>\n",
       "      <td>0.532898</td>\n",
       "    </tr>\n",
       "  </tbody>\n",
       "</table>\n",
       "<p>1309 rows × 4 columns</p>\n",
       "</div>"
      ],
      "text/plain": [
       "                         community  \\\n",
       "area_num year                        \n",
       "1        index         ROGERS PARK   \n",
       "2        index          WEST RIDGE   \n",
       "3        index              UPTOWN   \n",
       "4        index      LINCOLN SQUARE   \n",
       "5        index        NORTH CENTER   \n",
       "...                            ...   \n",
       "73       2021   WASHINGTON HEIGHTS   \n",
       "74       2021      MOUNT GREENWOOD   \n",
       "75       2021          MORGAN PARK   \n",
       "76       2021                OHARE   \n",
       "77       2021            EDGEWATER   \n",
       "\n",
       "                                                         geometry  tot_pop  \\\n",
       "area_num year                                                                \n",
       "1        index  MULTIPOLYGON (((-87.65456 41.99817, -87.65574 ...    55628   \n",
       "2        index  MULTIPOLYGON (((-87.68465 42.01948, -87.68464 ...    77122   \n",
       "3        index  MULTIPOLYGON (((-87.64102 41.95480, -87.64400 ...    57182   \n",
       "4        index  MULTIPOLYGON (((-87.67441 41.97610, -87.67440 ...    40494   \n",
       "5        index  MULTIPOLYGON (((-87.67336 41.93234, -87.67342 ...    35114   \n",
       "...                                                           ...      ...   \n",
       "73       2021   MULTIPOLYGON (((-87.63373 41.72885, -87.63369 ...    25065   \n",
       "74       2021   MULTIPOLYGON (((-87.69646 41.70714, -87.69644 ...    18628   \n",
       "75       2021   MULTIPOLYGON (((-87.64215 41.68508, -87.64249 ...    21186   \n",
       "76       2021   MULTIPOLYGON (((-87.83658 41.98640, -87.83658 ...    13418   \n",
       "77       2021   MULTIPOLYGON (((-87.65456 41.99817, -87.65456 ...    56296   \n",
       "\n",
       "                Number demolished per 10,000 people  \n",
       "area_num year                                        \n",
       "1        index                             0.000000  \n",
       "2        index                             1.000000  \n",
       "3        index                             2.000000  \n",
       "4        index                             3.000000  \n",
       "5        index                             4.000000  \n",
       "...                                             ...  \n",
       "73       2021                              2.393776  \n",
       "74       2021                              3.220958  \n",
       "75       2021                              3.304069  \n",
       "76       2021                              2.235803  \n",
       "77       2021                              0.532898  \n",
       "\n",
       "[1309 rows x 4 columns]"
      ]
     },
     "execution_count": 4,
     "metadata": {},
     "output_type": "execute_result"
    }
   ],
   "source": [
    "demo_year_count"
   ]
  }
 ],
 "metadata": {
  "interpreter": {
   "hash": "d7660429b82a00d1826214792335f268fe35060b99a4b0365a6603395481d28c"
  },
  "kernelspec": {
   "display_name": "Python 3.9.5 64-bit ('base': conda)",
   "name": "python3"
  },
  "language_info": {
   "codemirror_mode": {
    "name": "ipython",
    "version": 3
   },
   "file_extension": ".py",
   "mimetype": "text/x-python",
   "name": "python",
   "nbconvert_exporter": "python",
   "pygments_lexer": "ipython3",
   "version": "3.9.5"
  },
  "orig_nbformat": 4
 },
 "nbformat": 4,
 "nbformat_minor": 2
}
